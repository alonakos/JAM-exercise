{
 "cells": [
  {
   "cell_type": "code",
   "execution_count": 1,
   "metadata": {},
   "outputs": [
    {
     "data": {
      "image/png": "[encoded data removed]",
      "text/plain": [
       "<Figure size 432x288 with 1 Axes>"
      ]
     },
     "metadata": {
      "needs_background": "light"
     },
     "output_type": "display_data"
    }
   ],
   "source": [
    "import numpy as np\n",
    "import matplotlib.pyplot as plt\n",
    "\n",
    "from jampy.mge_vcirc import mge_vcirc\n",
    "\n",
    "def mge_vcirc_example():\n",
    "    \"\"\"\n",
    "    Usage example for mge_vcirc()\n",
    "    It takes a fraction of a second on a 2GHz computer\n",
    "    \n",
    "    \"\"\"    \n",
    "    # Realistic MGE galaxy surface brightness\n",
    "    # \n",
    "    surf = np.array([39483, 37158, 30646, 17759, 5955.1, 1203.5, 174.36, 21.105, 2.3599, 0.25493])\n",
    "    sigma = np.array([0.153, 0.515, 1.58, 4.22, 10, 22.4, 48.8, 105, 227, 525])\n",
    "    qObs = np.array([0.57, 0.57, 0.57, 0.57, 0.57, 0.57, 0.57, 0.57, 0.57, 0.57])\n",
    "    \n",
    "    inc = 60. # Inclination in degrees\n",
    "    mbh = 1e6 # BH mass in solar masses\n",
    "    distance = 10. # Mpc\n",
    "    rad = np.geomspace(0.1, 100, 25) # Radii in arscec where Vcirc has to be computed\n",
    "    ml = 5.0 # Adopted M/L ratio\n",
    "    \n",
    "    vcirc = mge_vcirc(surf*ml, sigma, qObs, inc, mbh, distance, rad)\n",
    "\n",
    "    plt.plot(rad, vcirc, '-o')\n",
    "    plt.xlabel('R (arcsec)')\n",
    "    plt.ylabel(r'$V_{circ}$ (km/s)')\n",
    "\n",
    "#----------------------------------------------------------------------\n",
    "\n",
    "if __name__ == '__main__':\n",
    "    \n",
    "    plt.clf()\n",
    "    mge_vcirc_example()\n",
    "    plt.pause(1)"
   ]
  },
  {
   "cell_type": "code",
   "execution_count": null,
   "metadata": {},
   "outputs": [],
   "source": []
  }
 ],
 "metadata": {
  "kernelspec": {
   "display_name": "Code",
   "language": "python",
   "name": "code"
  },
  "language_info": {
   "codemirror_mode": {
    "name": "ipython",
    "version": 3
   },
   "file_extension": ".py",
   "mimetype": "text/x-python",
   "name": "python",
   "nbconvert_exporter": "python",
   "pygments_lexer": "ipython3",
   "version": "3.8.3"
  }
 },
 "nbformat": 4,
 "nbformat_minor": 4
}
