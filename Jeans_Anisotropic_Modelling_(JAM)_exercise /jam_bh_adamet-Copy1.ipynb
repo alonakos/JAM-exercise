{
 "cells": [
  {
   "cell_type": "code",
   "execution_count": 6,
   "metadata": {},
   "outputs": [],
   "source": [
    "from os import path\n",
    "import matplotlib.pyplot as plt\n",
    "import numpy as np\n",
    "\n",
    "# All packages below are available at http://purl.org/cappellari/software\n",
    "from plotbin.plot_velfield import plot_velfield\n",
    "from plotbin.symmetrize_velfield import symmetrize_velfield\n",
    "import jampy as jam_package\n",
    "from jampy.legacy.jam_axi_rms import jam_axi_rms\n",
    "from adamet.adamet import adamet\n",
    "from adamet.corner_plot import corner_plot"
   ]
  },
  {
   "cell_type": "code",
   "execution_count": 7,
   "metadata": {},
   "outputs": [],
   "source": [
    "def summary_plot(xbin, ybin, goodbins, rms, pars, lnprob, labels, bounds, kwargs):\n",
    "    \"\"\"\n",
    "    Print the best fitting solution with errors.\n",
    "    Plot the final corner plot with the best fitting JAM model.\n",
    "\n",
    "    \"\"\"\n",
    "    bestfit = pars[np.argmax(lnprob)]  # Best fitting parameters\n",
    "    perc = np.percentile(pars, [15.86, 84.14], axis=0)\n",
    "    sig_bestfit = np.squeeze(np.diff(perc, axis=0)/2)   # half of 68% interval\n",
    "\n",
    "    print(\"\\nBest-fitting parameters and 1sigma errors:\")\n",
    "    for label, best, sig in zip(labels, bestfit, sig_bestfit):\n",
    "        print(f\"   {label} = {best:0.4g} +/- {sig:0.2g}\")\n",
    "        \n",
    "    # Produce final corner plot wihout trial values and with best fitting JAM\n",
    "    plt.clf()\n",
    "    corner_plot(pars, lnprob, labels=labels, extents=bounds, fignum=1)\n",
    "    chi2 = jam_lnprob(bestfit, **kwargs)  # Compute model at best fit location\n",
    "\n",
    "    dx = 0.24\n",
    "    yfac = 0.87\n",
    "    fig = plt.gcf()\n",
    "\n",
    "    fig.add_axes([0.69, 0.99 - dx*yfac, dx, dx*yfac])  # left, bottom, xsize, ysize\n",
    "    rms1 = rms.copy()\n",
    "    rms1[goodbins] = symmetrize_velfield(xbin[goodbins], ybin[goodbins], rms[goodbins])\n",
    "    vmin, vmax = np.percentile(rms1[goodbins], [0.5, 99.5])\n",
    "    plot_velfield(xbin, ybin, rms1, vmin=vmin, vmax=vmax, cmap='viridis', linescolor='w',\n",
    "                  colorbar=1, label=r\"Data $V_{\\rm rms}$ (km/s)\", flux=jam_lnprob.flux_model)\n",
    "    plt.tick_params(labelbottom=False) \n",
    "    plt.ylabel('arcsec')\n",
    "\n",
    "    fig.add_axes([0.69, 0.98 - 2*dx*yfac, dx, dx*yfac])  # left, bottom, xsize, ysize\n",
    "    plot_velfield(xbin, ybin, jam_lnprob.rms_model, vmin=vmin, vmax=vmax, cmap='viridis', linescolor='w',\n",
    "                  colorbar=1, label=r\"Model $V_{\\rm rms}$ (km/s)\", flux=jam_lnprob.flux_model)\n",
    "    plt.tick_params(labelbottom=False) \n",
    "    plt.ylabel('arcsec')"
   ]
  },
  {
   "cell_type": "code",
   "execution_count": 8,
   "metadata": {},
   "outputs": [],
   "source": [
    "def jam_lnprob(pars, surf_lum=None, sigma_lum=None, qobs_lum=None,\n",
    "              surf_pot=None, sigma_pot=None, qobs_pot=None, dist=None, \n",
    "              xbin=None, ybin=None, sigmapsf=None, normpsf=None, goodbins=None, \n",
    "              rms=None, erms=None, pixsize=None, plot=True):\n",
    "                      \n",
    "    q, beta, mbh, ml = pars\n",
    "    \n",
    "    # Sample inclination using min(q), with Equation (14) of Cappellari (2008)\n",
    "    qmin = np.min(qobs_lum)\n",
    "    inc = np.degrees(np.arctan(np.sqrt((1 - qmin**2)/(qmin**2 - q**2))))\n",
    "\n",
    "    # Note: surf_pot is multiplied by ml, while the keyword ml=1\n",
    "    rmsModel, ml_best, chi2dof, fluxmodel = \\\n",
    "        jam_axi_rms(surf_lum, sigma_lum, qobs_lum, surf_pot*ml, sigma_pot, qobs_pot,\n",
    "                    inc, mbh, dist, xbin, ybin, plot=plot, pixsize=pixsize,\n",
    "                    quiet=1, sigmapsf=sigmapsf, normpsf=normpsf, goodbins=goodbins,\n",
    "                    beta=np.full_like(qobs_lum, beta), rms=rms, erms=erms, ml=1)\n",
    "\n",
    "    # These two lines are just for the final plot\n",
    "    jam_lnprob.rms_model = rmsModel\n",
    "    jam_lnprob.flux_model = fluxmodel\n",
    "    \n",
    "    resid = (rms[goodbins] - rmsModel[goodbins])/erms[goodbins]\n",
    "    chi2 = resid @ resid\n",
    "\n",
    "    return -0.5*chi2  # ln(likelihood)"
   ]
  },
  {
   "cell_type": "code",
   "execution_count": 9,
   "metadata": {},
   "outputs": [],
   "source": [
    "def jam_bh_adamet_example():\n",
    "\n",
    "    # MGE model of M32 from Table B1 of Cappellari et al. (2006)\n",
    "    # http://adsabs.harvard.edu/abs/2006MNRAS.366.1126C\n",
    "    surf = 10**np.array([6.187, 5.774, 5.766, 5.613, 5.311, 4.774, 4.359, 4.087, 3.682, 3.316, 2.744, 1.618])\n",
    "    sigma = 10**np.array([-1.762, -1.143, -0.839, -0.438, -0.104, 0.232, 0.560, 0.835, 1.160, 1.414, 1.703, 2.249])\n",
    "    qObs = np.array([0.790, 0.741, 0.786, 0.757, 0.720, 0.724, 0.725, 0.743, 0.751, 0.838, 0.835, 0.720])\n",
    "\n",
    "    # Read mock kinematics with realistic parameters and noise\n",
    "    jam_dir = path.dirname(path.realpath(jam_package.__file__))\n",
    "    xbin, ybin, rms, erms, flux = np.loadtxt(jam_dir + \"/examples/jam_bh_mock_kinematics.txt\", unpack=True)\n",
    "    distance = 0.7   # M32 Distance\n",
    "\n",
    "    # Here assume mass follows light\n",
    "    surf_lum = surf_pot = surf\n",
    "    sigma_lum = sigma_pot = sigma\n",
    "    qobs_lum = qobs_pot = qObs\n",
    "\n",
    "    # Starting guess, e.g. from previous least-squares fit\n",
    "    q0 = 0.4\n",
    "    bh0 = 2.5e6\n",
    "    ml0 = 1.4\n",
    "    beta0 = 0.0\n",
    "\n",
    "    # Typical Adaptive Optics PSF: narrow core + broad wings\n",
    "    sigmapsf = [0.04, 0.4]  # sigma PSF in arcsec\n",
    "    normpsf = [0.7, 0.3]\n",
    "    pixsize = 0.05\n",
    "\n",
    "    qmin = np.min(qObs)\n",
    "    p0 = [q0, beta0, bh0, ml0]\n",
    "    bounds = [[0.051, -0.4, bh0/1.3, ml0/1.1], [qmin, 0.4, bh0*1.3, ml0*1.1]]\n",
    "    labels = [r\"$q_{\\rm min}$\", r\"$\\beta_z$\", r\"$M_{BH}$\", r\"$(M/L)_{\\rm tot}$\"]\n",
    "\n",
    "    goodbins = np.isfinite(xbin)  # Here we fit all bins\n",
    "\n",
    "    # These parameters are passed to JAM\n",
    "    kwargs = {'surf_lum': surf_lum, 'sigma_lum': sigma_lum, 'qobs_lum': qobs_lum,\n",
    "              'surf_pot': surf_pot, 'sigma_pot': sigma_pot, 'qobs_pot': qobs_pot,\n",
    "              'dist': distance, 'xbin': xbin, 'ybin': ybin, 'sigmapsf': sigmapsf,\n",
    "              'normpsf': normpsf, 'rms': rms, 'erms': erms, 'pixsize': pixsize,\n",
    "              'goodbins': goodbins, 'plot': 0}\n",
    "\n",
    "    # This is a rather small number of steps for illustration.\n",
    "    # But the distribution has already qualitatively converged\n",
    "    nstep = 1000\n",
    "    sigpar = np.array([0.1, 0.1, bh0*0.1, ml0*0.02])  # crude estimate of uncertainties\n",
    "\n",
    "    # With many steps the acceptance rate matches the optimal theoretical value of 28% in 4-dim\n",
    "    pars, lnprob = adamet(jam_lnprob, p0, sigpar, bounds, nstep, fignum=1,\n",
    "                          kwargs=kwargs, nprint=nstep/10, labels=labels)\n",
    "\n",
    "    summary_plot(xbin, ybin, goodbins, rms, pars, lnprob, labels, bounds, kwargs)"
   ]
  },
  {
   "cell_type": "code",
   "execution_count": 10,
   "metadata": {},
   "outputs": [
    {
     "data": {
      "image/png": "[encoded data removed]",
      "text/plain": [
       "<Figure size 676.8x676.8 with 16 Axes>"
      ]
     },
     "metadata": {
      "needs_background": "light"
     },
     "output_type": "display_data"
    },
    {
     "name": "stdout",
     "output_type": "stream",
     "text": [
      "adamet: 10.0 % done; 3.0 % accepted\n",
      "adamet: 20.0 % done; 5.0 % accepted\n",
      "adamet: 30.0 % done; 19.0 % accepted\n",
      "adamet: 40.0 % done; 26.8 % accepted\n",
      "adamet: 50.0 % done; 27.2 % accepted\n",
      "adamet: 60.0 % done; 28.3 % accepted\n",
      "adamet: 70.0 % done; 28.9 % accepted\n",
      "adamet: 80.0 % done; 27.8 % accepted\n",
      "adamet: 90.0 % done; 27.6 % accepted\n",
      "adamet: 100.0 % done; 28.0 % accepted\n"
     ]
    },
    {
     "ename": "NameError",
     "evalue": "name 'clock' is not defined",
     "output_type": "error",
     "traceback": [
      "\u001b[0;31m---------------------------------------------------------------------------\u001b[0m",
      "\u001b[0;31mNameError\u001b[0m                                 Traceback (most recent call last)",
      "\u001b[0;32m<ipython-input-10-9a5723800bfb>\u001b[0m in \u001b[0;36m<module>\u001b[0;34m\u001b[0m\n\u001b[1;32m      2\u001b[0m \u001b[0;34m\u001b[0m\u001b[0m\n\u001b[1;32m      3\u001b[0m     \u001b[0;31m# This example takes about 8 min on a 2GHz CPU\u001b[0m\u001b[0;34m\u001b[0m\u001b[0;34m\u001b[0m\u001b[0;34m\u001b[0m\u001b[0m\n\u001b[0;32m----> 4\u001b[0;31m     \u001b[0mjam_bh_adamet_example\u001b[0m\u001b[0;34m(\u001b[0m\u001b[0;34m)\u001b[0m\u001b[0;34m\u001b[0m\u001b[0;34m\u001b[0m\u001b[0m\n\u001b[0m",
      "\u001b[0;32m<ipython-input-9-bd881fea0a17>\u001b[0m in \u001b[0;36mjam_bh_adamet_example\u001b[0;34m()\u001b[0m\n\u001b[1;32m     48\u001b[0m \u001b[0;34m\u001b[0m\u001b[0m\n\u001b[1;32m     49\u001b[0m     \u001b[0;31m# With many steps the acceptance rate matches the optimal theoretical value of 28% in 4-dim\u001b[0m\u001b[0;34m\u001b[0m\u001b[0;34m\u001b[0m\u001b[0;34m\u001b[0m\u001b[0m\n\u001b[0;32m---> 50\u001b[0;31m     pars, lnprob = adamet(jam_lnprob, p0, sigpar, bounds, nstep, fignum=1,\n\u001b[0m\u001b[1;32m     51\u001b[0m                           kwargs=kwargs, nprint=nstep/10, labels=labels)\n\u001b[1;32m     52\u001b[0m \u001b[0;34m\u001b[0m\u001b[0m\n",
      "\u001b[0;32m~/.local/share/virtualenvs/Code-xJh5Zfm5/lib/python3.8/site-packages/adamet/adamet.py\u001b[0m in \u001b[0;36madamet\u001b[0;34m(lnprob_fun, pars, sigpars, bounds, nstep, labels, nprint, quiet, fignum, plot, labels_scaling, seed, args, kwargs)\u001b[0m\n\u001b[1;32m    170\u001b[0m \u001b[0;34m\u001b[0m\u001b[0m\n\u001b[1;32m    171\u001b[0m     \u001b[0;32mif\u001b[0m \u001b[0mquiet\u001b[0m \u001b[0;32mis\u001b[0m \u001b[0;32mFalse\u001b[0m\u001b[0;34m:\u001b[0m\u001b[0;34m\u001b[0m\u001b[0;34m\u001b[0m\u001b[0m\n\u001b[0;32m--> 172\u001b[0;31m         \u001b[0mprint\u001b[0m\u001b[0;34m(\u001b[0m\u001b[0;34m'adamet: done. Total time %0.2f seconds'\u001b[0m \u001b[0;34m%\u001b[0m \u001b[0;34m(\u001b[0m\u001b[0mclock\u001b[0m\u001b[0;34m(\u001b[0m\u001b[0;34m)\u001b[0m \u001b[0;34m-\u001b[0m \u001b[0mt\u001b[0m\u001b[0;34m)\u001b[0m\u001b[0;34m)\u001b[0m\u001b[0;34m\u001b[0m\u001b[0;34m\u001b[0m\u001b[0m\n\u001b[0m\u001b[1;32m    173\u001b[0m \u001b[0;34m\u001b[0m\u001b[0m\n\u001b[1;32m    174\u001b[0m     \u001b[0;32mreturn\u001b[0m \u001b[0mall_pars\u001b[0m\u001b[0;34m,\u001b[0m \u001b[0mall_lnprob\u001b[0m\u001b[0;34m\u001b[0m\u001b[0;34m\u001b[0m\u001b[0m\n",
      "\u001b[0;31mNameError\u001b[0m: name 'clock' is not defined"
     ]
    }
   ],
   "source": [
    "\n",
    "if __name__ == '__main__':\n",
    "\n",
    "    # This example takes about 8 min on a 2GHz CPU\n",
    "    jam_bh_adamet_example()"
   ]
  },
  {
   "cell_type": "code",
   "execution_count": null,
   "metadata": {},
   "outputs": [],
   "source": []
  }
 ],
 "metadata": {
  "kernelspec": {
   "display_name": "Code",
   "language": "python",
   "name": "code"
  },
  "language_info": {
   "codemirror_mode": {
    "name": "ipython",
    "version": 3
   },
   "file_extension": ".py",
   "mimetype": "text/x-python",
   "name": "python",
   "nbconvert_exporter": "python",
   "pygments_lexer": "ipython3",
   "version": "3.8.3"
  }
 },
 "nbformat": 4,
 "nbformat_minor": 4
}
