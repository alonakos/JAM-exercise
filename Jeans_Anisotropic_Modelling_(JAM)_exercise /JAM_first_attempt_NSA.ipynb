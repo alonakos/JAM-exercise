{
 "cells": [
  {
   "cell_type": "code",
   "execution_count": 8,
   "metadata": {},
   "outputs": [],
   "source": [
    "import numpy as np\n",
    "import matplotlib.pyplot as plt\n",
    "from astropy.visualization import astropy_mpl_style\n",
    "plt.style.use(astropy_mpl_style)\n",
    "from astropy.utils.data import get_pkg_data_filename\n",
    "from astropy.io import fits\n",
    "from astropy.table import Table\n",
    "from astropy.utils.data import get_pkg_data_filename\n",
    "from astropy.io import fits\n",
    "import fitsio, numpy\n",
    "from fitsio import FITS,FITSHDR\n",
    "import pandas\n",
    "\n",
    "nsa_tetsuo_akira = get_pkg_data_filename('akira_tetsuo_nsa.fits')\n",
    "\n",
    "AKIRA_NSAID = 217022\n",
    "TETSUO_NSAID = 217015\n",
    "\n",
    "#nsa_hdu_list = fits.open(nsa, memmap=True)\n",
    "mpa = get_pkg_data_filename('totlgm_dr7_v5_2.fit 2')\n",
    "mpa_hdu_list = fits.open(mpa, memmap=True)"
   ]
  },
  {
   "cell_type": "code",
   "execution_count": 9,
   "metadata": {},
   "outputs": [],
   "source": [
    "#nsa_data = Table(nsa_hdu_list[1].data)\n",
    "#DO NOT RUN! LOADS THE WHOLE CATALOG IN THE MEMORY - 30 minutes\n",
    "mpa_data = Table(mpa_hdu_list[1].data)"
   ]
  },
  {
   "cell_type": "code",
   "execution_count": 10,
   "metadata": {},
   "outputs": [
    {
     "name": "stdout",
     "output_type": "stream",
     "text": [
      "<Table length=927552>\n",
      " name   dtype  n_bad\n",
      "------ ------- -----\n",
      "MEDIAN float32    56\n",
      "   P16 float32    61\n",
      "   P84 float32    56\n",
      "  P2P5 float32    61\n",
      " P97P5 float32    54\n",
      "  MODE float32     0\n",
      "   AVG float32     0\n"
     ]
    }
   ],
   "source": [
    "mpa_data.info()"
   ]
  },
  {
   "cell_type": "code",
   "execution_count": 11,
   "metadata": {},
   "outputs": [],
   "source": [
    "#CREATES A NEW FITS FILE WITH AKIRA AND TETSUO FROM THE WHOLE CATALOG\n",
    "\n",
    "#nsa_data_tetsuo_akira = nsa_data[[217015, 217022]]\n",
    "#nsa_data_tetsuo_akira.write('file2.fits')\n",
    "#nsa_hdu_list.info()\n",
    "#print (nsa_hdu_list[1].data[217015])\n",
    "#type (nsa_hdu_list[1].data)\n",
    "\n",
    "#FINDS A GALAXY\n",
    "#nsa_data = Table(nsa_hdu_list[1].data)\n",
    "#mpa_data = Table (mpa_hdu_list[1].data)\n",
    "#nsa_data_tetsuo = Table(nsa_hdu_list[1].data[217015])\n",
    "\n",
    "# CHEKC LENGHT\n",
    "#len(nsa_hdu_list[1].data)\n",
    "#len (mpa_hdu_list[1].data)\n",
    "\n",
    "#type (nsa_hdu_list[1].data[217015])\n",
    "#type (nsa_data[217015])\n",
    "\n",
    "#NOT SURE IF WORKS\n",
    "#type (nsa_data[217015])\n",
    "#from astropy.io import ascii\n",
    "#hdu = fits.PrimaryHDU(nsa_data[217015])\n",
    "#hdul = fits.HDUList(nsa_data[217015])\n",
    "#hdul.writeto('tetsuo.fits')\n",
    "\n",
    "#nsa_data[217022]\n",
    "\n",
    "# CREATE A FILTER (MASK)\n",
    "#mask = abs(nsa_data['RA'] - 136.08961) < 1E-3\n",
    "#nsa_data[mask]\n",
    "\n",
    "#THIS IS SMTH ABOUT COLUMN\n",
    "#NBINS = 500\n",
    "#hist = plt.hist(nsa_data['Z'], NBINS)"
   ]
  },
  {
   "cell_type": "code",
   "execution_count": 14,
   "metadata": {},
   "outputs": [],
   "source": [
    "nsa_hdu_list_akira_tetsuo = fits.open(nsa_tetsuo_akira, memmap=True)"
   ]
  },
  {
   "cell_type": "code",
   "execution_count": 16,
   "metadata": {},
   "outputs": [],
   "source": [
    "nsa_hdu_list_tetsuo_table = Table(nsa_hdu_list_akira_tetsuo[1].data)"
   ]
  },
  {
   "cell_type": "code",
   "execution_count": 17,
   "metadata": {},
   "outputs": [
    {
     "data": {
      "text/html": [
       "<i>Row index=1</i>\n",
       "<table id=\"table4425084544\">\n",
       "<thead><tr><th>IAUNAME</th><th>SUBDIR</th><th>RA</th><th>DEC</th><th>ISDSS</th><th>INED</th><th>ISIXDF</th><th>IALFALFA</th><th>IZCAT</th><th>ITWODF</th><th>MAG</th><th>Z</th><th>ZSRC</th><th>SIZE</th><th>RUN</th><th>CAMCOL</th><th>FIELD</th><th>RERUN</th><th>XPOS</th><th>YPOS</th><th>NSAID</th><th>ZDIST</th><th>SERSIC_NMGY [7]</th><th>SERSIC_NMGY_IVAR [7]</th><th>SERSIC_OK</th><th>SERSIC_RNMGY [7]</th><th>SERSIC_ABSMAG [7]</th><th>SERSIC_AMIVAR [7]</th><th>EXTINCTION [7]</th><th>SERSIC_KCORRECT [7]</th><th>SERSIC_KCOEFF [5]</th><th>SERSIC_MTOL [7]</th><th>SERSIC_B300</th><th>SERSIC_B1000</th><th>SERSIC_METS</th><th>SERSIC_MASS</th><th>XCEN</th><th>YCEN</th><th>NPROF [7]</th><th>PROFMEAN [15,7]</th><th>PROFMEAN_IVAR [15,7]</th><th>QSTOKES [15,7]</th><th>USTOKES [15,7]</th><th>BASTOKES [15,7]</th><th>PHISTOKES [15,7]</th><th>PETRO_FLUX [7]</th><th>PETRO_FLUX_IVAR [7]</th><th>FIBER_FLUX [7]</th><th>FIBER_FLUX_IVAR [7]</th><th>PETRO_BA50</th><th>PETRO_PHI50</th><th>PETRO_BA90</th><th>PETRO_PHI90</th><th>SERSIC_FLUX [7]</th><th>SERSIC_FLUX_IVAR [7]</th><th>SERSIC_N</th><th>SERSIC_BA</th><th>SERSIC_PHI</th><th>ASYMMETRY [7]</th><th>CLUMPY [7]</th><th>DFLAGS [7]</th><th>AID</th><th>PID</th><th>DVERSION</th><th>PROFTHETA [15]</th><th>PETRO_THETA</th><th>PETRO_TH50</th><th>PETRO_TH90</th><th>SERSIC_TH50</th><th>PLATE</th><th>FIBERID</th><th>MJD</th><th>RACAT</th><th>DECCAT</th><th>ZSDSSLINE</th><th>SURVEY</th><th>PROGRAMNAME</th><th>PLATEQUALITY</th><th>TILE</th><th>PLUG_RA</th><th>PLUG_DEC</th><th>ELPETRO_BA</th><th>ELPETRO_PHI</th><th>ELPETRO_FLUX_R</th><th>ELPETRO_FLUX_IVAR_R</th><th>ELPETRO_THETA_R</th><th>ELPETRO_TH50_R</th><th>ELPETRO_TH90_R</th><th>ELPETRO_THETA</th><th>ELPETRO_FLUX [7]</th><th>ELPETRO_FLUX_IVAR [7]</th><th>ELPETRO_TH50 [7]</th><th>ELPETRO_TH90 [7]</th><th>ELPETRO_APCORR_R</th><th>ELPETRO_APCORR [7]</th><th>ELPETRO_APCORR_SELF [7]</th><th>ELPETRO_NMGY [7]</th><th>ELPETRO_NMGY_IVAR [7]</th><th>ELPETRO_OK</th><th>ELPETRO_RNMGY [7]</th><th>ELPETRO_ABSMAG [7]</th><th>ELPETRO_AMIVAR [7]</th><th>ELPETRO_KCORRECT [7]</th><th>ELPETRO_KCOEFF [5]</th><th>ELPETRO_MASS</th><th>ELPETRO_MTOL [7]</th><th>ELPETRO_B300</th><th>ELPETRO_B1000</th><th>ELPETRO_METS</th><th>IN_DR7_LSS</th></tr></thead>\n",
       "<thead><tr><th>str19</th><th>str27</th><th>float64</th><th>float64</th><th>int32</th><th>int32</th><th>int32</th><th>int32</th><th>int32</th><th>int32</th><th>float32</th><th>float32</th><th>str7</th><th>float32</th><th>int16</th><th>uint8</th><th>int16</th><th>str3</th><th>float32</th><th>float32</th><th>int32</th><th>float32</th><th>float32</th><th>float32</th><th>int16</th><th>float32</th><th>float32</th><th>float32</th><th>float32</th><th>float32</th><th>float32</th><th>float32</th><th>float32</th><th>float32</th><th>float32</th><th>float32</th><th>float64</th><th>float64</th><th>uint8</th><th>float32</th><th>float32</th><th>float32</th><th>float32</th><th>float32</th><th>float32</th><th>float32</th><th>float32</th><th>float32</th><th>float32</th><th>float32</th><th>float32</th><th>float32</th><th>float32</th><th>float32</th><th>float32</th><th>float32</th><th>float32</th><th>float32</th><th>float32</th><th>float32</th><th>int32</th><th>int32</th><th>int32</th><th>str8</th><th>float32</th><th>float32</th><th>float32</th><th>float32</th><th>float32</th><th>int32</th><th>int16</th><th>int32</th><th>float64</th><th>float64</th><th>float32</th><th>str6</th><th>str27</th><th>str8</th><th>int32</th><th>float64</th><th>float64</th><th>float32</th><th>float32</th><th>float32</th><th>float32</th><th>float32</th><th>float32</th><th>float32</th><th>float32</th><th>float32</th><th>float32</th><th>float32</th><th>float32</th><th>float32</th><th>float32</th><th>float32</th><th>float32</th><th>float32</th><th>int16</th><th>float32</th><th>float32</th><th>float32</th><th>float32</th><th>float32</th><th>float32</th><th>float32</th><th>float32</th><th>float32</th><th>float32</th><th>float64</th></tr></thead>\n",
       "<tr><td>J090421.50+412854.2</td><td>09h/p40/J090421.50+412854.2</td><td>136.08959831627462</td><td>41.48172900094675</td><td>234221</td><td>62935</td><td>-1</td><td>-1</td><td>150557</td><td>-1</td><td>14.99632</td><td>0.024467085</td><td>sdss</td><td>0.07</td><td>2864</td><td>5</td><td>199</td><td>301</td><td>913.5599</td><td>174.38167</td><td>229685</td><td>0.024577087</td><td>5.336241 .. 5566.726</td><td>0.09500306 .. 4.158829e-05</td><td>1</td><td>3.430523 .. 5871.084</td><td>-13.664092 .. -21.266333</td><td>2.2948787 .. 1093.2566</td><td>0.12070649 .. 0.02153497</td><td>-0.031365834 .. 0.024964992</td><td>0.0002871678 .. 2.1640781e-10</td><td>0.0037122867 .. 1.1180108</td><td>1.0349721e-06</td><td>0.24679898</td><td>0.033011902</td><td>24093663000.0</td><td>319.5922546386719</td><td>257.3701477050781</td><td>10 .. 12</td><td>0.03666058 .. 0.0</td><td>53.02904 .. 0.0</td><td>-0.0032105853 .. 0.05393523</td><td>0.039052974 .. -0.07794703</td><td>0.9245856 .. 0.82683796</td><td>47.349888 .. -27.659405</td><td>3.0794837 .. 4624.84</td><td>0.027759872 .. 1.1074237e-05</td><td>0.47500294 .. 794.37805</td><td>7.9424205 .. 0.11888618</td><td>0.90982234</td><td>60.20201</td><td>0.8754771</td><td>52.956146</td><td>4.774774 .. 5662.2085</td><td>0.11909687 .. 0.0025015527</td><td>4.7072477</td><td>0.81792474</td><td>53.54767</td><td>-9.827434 .. -0.14114088</td><td>-7.3725524 .. -0.025224566</td><td>0 .. 0</td><td>0</td><td>16</td><td>v2_1_13</td><td>0.22341923 .. 258.39</td><td>14.736518</td><td>5.351658</td><td>19.61834</td><td>7.958318</td><td>1200</td><td>400</td><td>52668</td><td>136.08961186234689</td><td>41.48174328468794</td><td>0.0</td><td>sdss</td><td>legacy</td><td>good</td><td>639</td><td>136.08956</td><td>41.481717</td><td>0.8754771</td><td>52.956146</td><td>2183.246</td><td>0.058482517</td><td>14.335686</td><td>5.3771462</td><td>19.643293</td><td>14.335686</td><td>8.655953 .. 4567.701</td><td>0.031185161 .. 1.2207057e-05</td><td>17.04669 .. 5.2544856</td><td>27.51916 .. 20.618649</td><td>1.0002731</td><td>1.029753 .. 0.9999193</td><td>1.015497 .. 0.9998972</td><td>9.673809 .. 4490.6753</td><td>0.024889017 .. 1.057344e-05</td><td>1</td><td>2.0652163 .. 4473.4585</td><td>-14.316385 .. -21.023777</td><td>1.9758503 .. 180.88016</td><td>-0.02497675 .. 0.015629768</td><td>0.000100854944 .. 7.556019e-08</td><td>19810933000.0</td><td>0.005040606 .. 1.216906</td><td>6.2286745e-05</td><td>0.102257624</td><td>0.026411122</td><td>1.0</td></tr>\n",
       "</table>"
      ],
      "text/plain": [
       "<Row index=1>\n",
       "      IAUNAME                  SUBDIR                   RA                DEC        ISDSS   INED ISIXDF IALFALFA IZCAT  ITWODF   MAG         Z      ZSRC   SIZE   RUN  CAMCOL FIELD RERUN   XPOS      YPOS   NSAID     ZDIST      SERSIC_NMGY [7]       SERSIC_NMGY_IVAR [7]    SERSIC_OK   SERSIC_RNMGY [7]      SERSIC_ABSMAG [7]       SERSIC_AMIVAR [7]         EXTINCTION [7]          SERSIC_KCORRECT [7]           SERSIC_KCOEFF [5]            SERSIC_MTOL [7]       SERSIC_B300  SERSIC_B1000 SERSIC_METS  SERSIC_MASS         XCEN              YCEN       NPROF [7]  PROFMEAN [15,7]  PROFMEAN_IVAR [15,7]        QSTOKES [15,7]             USTOKES [15,7]           BASTOKES [15,7]         PHISTOKES [15,7]       PETRO_FLUX [7]        PETRO_FLUX_IVAR [7]           FIBER_FLUX [7]       FIBER_FLUX_IVAR [7]   PETRO_BA50 PETRO_PHI50 PETRO_BA90 PETRO_PHI90    SERSIC_FLUX [7]       SERSIC_FLUX_IVAR [7]     SERSIC_N SERSIC_BA  SERSIC_PHI      ASYMMETRY [7]               CLUMPY [7]         DFLAGS [7]  AID   PID  DVERSION    PROFTHETA [15]    PETRO_THETA PETRO_TH50 PETRO_TH90 SERSIC_TH50 PLATE FIBERID  MJD        RACAT              DECCAT      ZSDSSLINE SURVEY PROGRAMNAME PLATEQUALITY  TILE  PLUG_RA   PLUG_DEC ELPETRO_BA ELPETRO_PHI ELPETRO_FLUX_R ELPETRO_FLUX_IVAR_R ELPETRO_THETA_R ELPETRO_TH50_R ELPETRO_TH90_R ELPETRO_THETA   ELPETRO_FLUX [7]      ELPETRO_FLUX_IVAR [7]        ELPETRO_TH50 [7]      ELPETRO_TH90 [7]   ELPETRO_APCORR_R   ELPETRO_APCORR [7]  ELPETRO_APCORR_SELF [7]    ELPETRO_NMGY [7]      ELPETRO_NMGY_IVAR [7]    ELPETRO_OK   ELPETRO_RNMGY [7]       ELPETRO_ABSMAG [7]      ELPETRO_AMIVAR [7]      ELPETRO_KCORRECT [7]          ELPETRO_KCOEFF [5]        ELPETRO_MASS     ELPETRO_MTOL [7]     ELPETRO_B300 ELPETRO_B1000 ELPETRO_METS IN_DR7_LSS\n",
       "       str19                   str27                 float64            float64      int32  int32 int32   int32   int32  int32  float32    float32   str7 float32 int16 uint8  int16  str3 float32   float32  int32    float32         float32                 float32             int16         float32                float32                 float32                 float32                    float32                      float32                     float32             float32      float32      float32      float32         float64           float64        uint8        float32            float32                  float32                    float32                   float32                 float32               float32                  float32                    float32                 float32          float32     float32    float32     float32          float32                 float32            float32   float32    float32           float32                   float32             int32    int32 int32   str8         float32          float32    float32    float32     float32   int32  int16  int32      float64            float64       float32   str6     str27        str8     int32  float64   float64   float32     float32      float32           float32           float32        float32        float32        float32          float32                  float32                   float32               float32            float32             float32                float32                float32                  float32             int16           float32                 float32                 float32                  float32                      float32                float32            float32            float32       float32      float32     float64  \n",
       "------------------- --------------------------- ------------------ ----------------- ------ ----- ------ -------- ------ ------ -------- ----------- ---- ------- ----- ------ ----- ----- -------- --------- ------ ----------- -------------------- -------------------------- --------- -------------------- ------------------------ ---------------------- ------------------------ --------------------------- ----------------------------- ------------------------- ------------- ------------ ----------- ------------- ----------------- ----------------- --------- ----------------- -------------------- --------------------------- -------------------------- ----------------------- ----------------------- -------------------- ---------------------------- ----------------------- ----------------------- ---------- ----------- ---------- ----------- --------------------- -------------------------- --------- ---------- ---------- ------------------------ -------------------------- ---------- ----- ----- -------- -------------------- ----------- ---------- ---------- ----------- ----- ------- ----- ------------------ ----------------- --------- ------ ----------- ------------ ----- --------- --------- ---------- ----------- -------------- ------------------- --------------- -------------- -------------- ------------- -------------------- ---------------------------- --------------------- --------------------- ---------------- --------------------- ----------------------- --------------------- --------------------------- ---------- ---------------------- ------------------------ ---------------------- -------------------------- ------------------------------ ------------- ----------------------- ------------- ------------- ------------ ----------\n",
       "J090421.50+412854.2 09h/p40/J090421.50+412854.2 136.08959831627462 41.48172900094675 234221 62935     -1       -1 150557     -1 14.99632 0.024467085 sdss    0.07  2864      5   199   301 913.5599 174.38167 229685 0.024577087 5.336241 .. 5566.726 0.09500306 .. 4.158829e-05         1 3.430523 .. 5871.084 -13.664092 .. -21.266333 2.2948787 .. 1093.2566 0.12070649 .. 0.02153497 -0.031365834 .. 0.024964992 0.0002871678 .. 2.1640781e-10 0.0037122867 .. 1.1180108 1.0349721e-06   0.24679898 0.033011902 24093663000.0 319.5922546386719 257.3701477050781  10 .. 12 0.03666058 .. 0.0      53.02904 .. 0.0 -0.0032105853 .. 0.05393523 0.039052974 .. -0.07794703 0.9245856 .. 0.82683796 47.349888 .. -27.659405 3.0794837 .. 4624.84 0.027759872 .. 1.1074237e-05 0.47500294 .. 794.37805 7.9424205 .. 0.11888618 0.90982234    60.20201  0.8754771   52.956146 4.774774 .. 5662.2085 0.11909687 .. 0.0025015527 4.7072477 0.81792474   53.54767 -9.827434 .. -0.14114088 -7.3725524 .. -0.025224566     0 .. 0     0    16  v2_1_13 0.22341923 .. 258.39   14.736518   5.351658   19.61834    7.958318  1200     400 52668 136.08961186234689 41.48174328468794       0.0   sdss      legacy         good   639 136.08956 41.481717  0.8754771   52.956146       2183.246         0.058482517       14.335686      5.3771462      19.643293     14.335686 8.655953 .. 4567.701 0.031185161 .. 1.2207057e-05 17.04669 .. 5.2544856 27.51916 .. 20.618649        1.0002731 1.029753 .. 0.9999193   1.015497 .. 0.9998972 9.673809 .. 4490.6753 0.024889017 .. 1.057344e-05          1 2.0652163 .. 4473.4585 -14.316385 .. -21.023777 1.9758503 .. 180.88016 -0.02497675 .. 0.015629768 0.000100854944 .. 7.556019e-08 19810933000.0 0.005040606 .. 1.216906 6.2286745e-05   0.102257624  0.026411122        1.0"
      ]
     },
     "execution_count": 17,
     "metadata": {},
     "output_type": "execute_result"
    }
   ],
   "source": [
    "nsa_hdu_list_tetsuo_table[1]"
   ]
  },
  {
   "cell_type": "code",
   "execution_count": 18,
   "metadata": {},
   "outputs": [
    {
     "data": {
      "text/html": [
       "<i>Row index=0</i>\n",
       "<table id=\"table4425084544\">\n",
       "<thead><tr><th>IAUNAME</th><th>SUBDIR</th><th>RA</th><th>DEC</th><th>ISDSS</th><th>INED</th><th>ISIXDF</th><th>IALFALFA</th><th>IZCAT</th><th>ITWODF</th><th>MAG</th><th>Z</th><th>ZSRC</th><th>SIZE</th><th>RUN</th><th>CAMCOL</th><th>FIELD</th><th>RERUN</th><th>XPOS</th><th>YPOS</th><th>NSAID</th><th>ZDIST</th><th>SERSIC_NMGY [7]</th><th>SERSIC_NMGY_IVAR [7]</th><th>SERSIC_OK</th><th>SERSIC_RNMGY [7]</th><th>SERSIC_ABSMAG [7]</th><th>SERSIC_AMIVAR [7]</th><th>EXTINCTION [7]</th><th>SERSIC_KCORRECT [7]</th><th>SERSIC_KCOEFF [5]</th><th>SERSIC_MTOL [7]</th><th>SERSIC_B300</th><th>SERSIC_B1000</th><th>SERSIC_METS</th><th>SERSIC_MASS</th><th>XCEN</th><th>YCEN</th><th>NPROF [7]</th><th>PROFMEAN [15,7]</th><th>PROFMEAN_IVAR [15,7]</th><th>QSTOKES [15,7]</th><th>USTOKES [15,7]</th><th>BASTOKES [15,7]</th><th>PHISTOKES [15,7]</th><th>PETRO_FLUX [7]</th><th>PETRO_FLUX_IVAR [7]</th><th>FIBER_FLUX [7]</th><th>FIBER_FLUX_IVAR [7]</th><th>PETRO_BA50</th><th>PETRO_PHI50</th><th>PETRO_BA90</th><th>PETRO_PHI90</th><th>SERSIC_FLUX [7]</th><th>SERSIC_FLUX_IVAR [7]</th><th>SERSIC_N</th><th>SERSIC_BA</th><th>SERSIC_PHI</th><th>ASYMMETRY [7]</th><th>CLUMPY [7]</th><th>DFLAGS [7]</th><th>AID</th><th>PID</th><th>DVERSION</th><th>PROFTHETA [15]</th><th>PETRO_THETA</th><th>PETRO_TH50</th><th>PETRO_TH90</th><th>SERSIC_TH50</th><th>PLATE</th><th>FIBERID</th><th>MJD</th><th>RACAT</th><th>DECCAT</th><th>ZSDSSLINE</th><th>SURVEY</th><th>PROGRAMNAME</th><th>PLATEQUALITY</th><th>TILE</th><th>PLUG_RA</th><th>PLUG_DEC</th><th>ELPETRO_BA</th><th>ELPETRO_PHI</th><th>ELPETRO_FLUX_R</th><th>ELPETRO_FLUX_IVAR_R</th><th>ELPETRO_THETA_R</th><th>ELPETRO_TH50_R</th><th>ELPETRO_TH90_R</th><th>ELPETRO_THETA</th><th>ELPETRO_FLUX [7]</th><th>ELPETRO_FLUX_IVAR [7]</th><th>ELPETRO_TH50 [7]</th><th>ELPETRO_TH90 [7]</th><th>ELPETRO_APCORR_R</th><th>ELPETRO_APCORR [7]</th><th>ELPETRO_APCORR_SELF [7]</th><th>ELPETRO_NMGY [7]</th><th>ELPETRO_NMGY_IVAR [7]</th><th>ELPETRO_OK</th><th>ELPETRO_RNMGY [7]</th><th>ELPETRO_ABSMAG [7]</th><th>ELPETRO_AMIVAR [7]</th><th>ELPETRO_KCORRECT [7]</th><th>ELPETRO_KCOEFF [5]</th><th>ELPETRO_MASS</th><th>ELPETRO_MTOL [7]</th><th>ELPETRO_B300</th><th>ELPETRO_B1000</th><th>ELPETRO_METS</th><th>IN_DR7_LSS</th></tr></thead>\n",
       "<thead><tr><th>str19</th><th>str27</th><th>float64</th><th>float64</th><th>int32</th><th>int32</th><th>int32</th><th>int32</th><th>int32</th><th>int32</th><th>float32</th><th>float32</th><th>str7</th><th>float32</th><th>int16</th><th>uint8</th><th>int16</th><th>str3</th><th>float32</th><th>float32</th><th>int32</th><th>float32</th><th>float32</th><th>float32</th><th>int16</th><th>float32</th><th>float32</th><th>float32</th><th>float32</th><th>float32</th><th>float32</th><th>float32</th><th>float32</th><th>float32</th><th>float32</th><th>float32</th><th>float64</th><th>float64</th><th>uint8</th><th>float32</th><th>float32</th><th>float32</th><th>float32</th><th>float32</th><th>float32</th><th>float32</th><th>float32</th><th>float32</th><th>float32</th><th>float32</th><th>float32</th><th>float32</th><th>float32</th><th>float32</th><th>float32</th><th>float32</th><th>float32</th><th>float32</th><th>float32</th><th>float32</th><th>int32</th><th>int32</th><th>int32</th><th>str8</th><th>float32</th><th>float32</th><th>float32</th><th>float32</th><th>float32</th><th>int32</th><th>int16</th><th>int32</th><th>float64</th><th>float64</th><th>float32</th><th>str6</th><th>str27</th><th>str8</th><th>int32</th><th>float64</th><th>float64</th><th>float32</th><th>float32</th><th>float32</th><th>float32</th><th>float32</th><th>float32</th><th>float32</th><th>float32</th><th>float32</th><th>float32</th><th>float32</th><th>float32</th><th>float32</th><th>float32</th><th>float32</th><th>float32</th><th>float32</th><th>int16</th><th>float32</th><th>float32</th><th>float32</th><th>float32</th><th>float32</th><th>float32</th><th>float32</th><th>float32</th><th>float32</th><th>float32</th><th>float64</th></tr></thead>\n",
       "<tr><td>J090427.39+412910.3</td><td>09h/p40/J090427.39+412910.3</td><td>136.1141894043758</td><td>41.48620655911407</td><td>234214</td><td>62960</td><td>-1</td><td>-1</td><td>150589</td><td>-1</td><td>16.804045</td><td>0.024464695</td><td>sdss</td><td>0.07</td><td>2864</td><td>5</td><td>199</td><td>301</td><td>846.1409</td><td>332.72162</td><td>229678</td><td>0.02457468</td><td>15.294206 .. 432.70963</td><td>0.14675486 .. 0.006180516</td><td>1</td><td>11.275181 .. 435.89822</td><td>-14.842025 .. -18.46674</td><td>29.120419 .. 981.6782</td><td>0.12312718 .. 0.021966837</td><td>0.0035558213 .. -0.0009047679</td><td>3.4733189e-10 .. 1.048234e-06</td><td>6.230661e-05 .. 0.87851965</td><td>0.012574765</td><td>0.057062168</td><td>0.021093322</td><td>1372272800.0</td><td>319.31719970703125</td><td>275.48291015625</td><td>10 .. 12</td><td>0.46430007 .. 0.0</td><td>19.89334 .. 0.0</td><td>0.10384511 .. 0.15701883</td><td>0.0038284247 .. 0.18340655</td><td>0.8117326 .. 0.61103344</td><td>1.0556746 .. 24.71618</td><td>8.979391 .. 416.81158</td><td>0.15768526 .. 0.012196948</td><td>1.2941037 .. 104.40079</td><td>4.927625 .. 0.5290479</td><td>0.81707716</td><td>158.45679</td><td>0.71592665</td><td>158.3876</td><td>13.654508 .. 439.95654</td><td>0.19311486 .. 0.05132291</td><td>2.1982067</td><td>0.61002475</td><td>159.89954</td><td>-0.2791745 .. -0.053505167</td><td>-0.20512736 .. -0.033274934</td><td>0 .. 64</td><td>2</td><td>24</td><td>v2_1_13</td><td>0.22341923 .. 258.39</td><td>6.174788</td><td>2.835403</td><td>8.220333</td><td>3.553146</td><td>1200</td><td>385</td><td>52668</td><td>136.11416256161644</td><td>41.48620843904549</td><td>0.0</td><td>sdss</td><td>legacy</td><td>good</td><td>639</td><td>136.11414</td><td>41.486196</td><td>0.71592665</td><td>158.3876</td><td>267.82214</td><td>0.47782302</td><td>6.887352</td><td>3.1269498</td><td>8.629966</td><td>6.887352</td><td>10.968276 .. 415.81747</td><td>0.14511849 .. 0.012978472</td><td>3.798364 .. 3.1545942</td><td>10.528671 .. 9.163556</td><td>1.0002136</td><td>1.0741689 .. 1.000211</td><td>1.0734565 .. 1.0001365</td><td>12.2853985 .. 408.96814</td><td>0.11299262 .. 0.0049449154</td><td>1</td><td>7.9684563 .. 412.03818</td><td>-14.61242 .. -18.411428</td><td>14.467048 .. 701.5993</td><td>0.011795992 .. 0.0050534583</td><td>5.3068484e-06 .. 4.313507e-11</td><td>1166673400.0</td><td>7.438686e-05 .. 0.7858228</td><td>6.935276e-05</td><td>0.16960175</td><td>0.026085883</td><td>1.0</td></tr>\n",
       "</table>"
      ],
      "text/plain": [
       "<Row index=0>\n",
       "      IAUNAME                  SUBDIR                   RA               DEC        ISDSS   INED ISIXDF IALFALFA IZCAT  ITWODF    MAG         Z      ZSRC   SIZE   RUN  CAMCOL FIELD RERUN   XPOS      YPOS   NSAID    ZDIST       SERSIC_NMGY [7]        SERSIC_NMGY_IVAR [7]   SERSIC_OK    SERSIC_RNMGY [7]       SERSIC_ABSMAG [7]      SERSIC_AMIVAR [7]         EXTINCTION [7]           SERSIC_KCORRECT [7]            SERSIC_KCOEFF [5]            SERSIC_MTOL [7]       SERSIC_B300 SERSIC_B1000 SERSIC_METS SERSIC_MASS         XCEN              YCEN      NPROF [7]  PROFMEAN [15,7]  PROFMEAN_IVAR [15,7]      QSTOKES [15,7]            USTOKES [15,7]           BASTOKES [15,7]        PHISTOKES [15,7]       PETRO_FLUX [7]       PETRO_FLUX_IVAR [7]        FIBER_FLUX [7]      FIBER_FLUX_IVAR [7]  PETRO_BA50 PETRO_PHI50 PETRO_BA90 PETRO_PHI90    SERSIC_FLUX [7]       SERSIC_FLUX_IVAR [7]    SERSIC_N SERSIC_BA  SERSIC_PHI       ASYMMETRY [7]                 CLUMPY [7]         DFLAGS [7]  AID   PID  DVERSION    PROFTHETA [15]    PETRO_THETA PETRO_TH50 PETRO_TH90 SERSIC_TH50 PLATE FIBERID  MJD        RACAT              DECCAT      ZSDSSLINE SURVEY PROGRAMNAME PLATEQUALITY  TILE  PLUG_RA   PLUG_DEC ELPETRO_BA ELPETRO_PHI ELPETRO_FLUX_R ELPETRO_FLUX_IVAR_R ELPETRO_THETA_R ELPETRO_TH50_R ELPETRO_TH90_R ELPETRO_THETA    ELPETRO_FLUX [7]      ELPETRO_FLUX_IVAR [7]      ELPETRO_TH50 [7]      ELPETRO_TH90 [7]   ELPETRO_APCORR_R   ELPETRO_APCORR [7]  ELPETRO_APCORR_SELF [7]     ELPETRO_NMGY [7]      ELPETRO_NMGY_IVAR [7]    ELPETRO_OK   ELPETRO_RNMGY [7]       ELPETRO_ABSMAG [7]     ELPETRO_AMIVAR [7]      ELPETRO_KCORRECT [7]          ELPETRO_KCOEFF [5]      ELPETRO_MASS      ELPETRO_MTOL [7]     ELPETRO_B300 ELPETRO_B1000 ELPETRO_METS IN_DR7_LSS\n",
       "       str19                   str27                 float64           float64      int32  int32 int32   int32   int32  int32   float32    float32   str7 float32 int16 uint8  int16  str3 float32   float32  int32   float32          float32                  float32            int16          float32                 float32                float32                 float32                     float32                       float32                     float32             float32     float32      float32     float32         float64           float64       uint8        float32            float32                float32                   float32                   float32                float32               float32                 float32                 float32                float32         float32     float32    float32     float32          float32                 float32           float32   float32    float32            float32                     float32             int32    int32 int32   str8         float32          float32    float32    float32     float32   int32  int16  int32      float64            float64       float32   str6     str27        str8     int32  float64   float64   float32     float32      float32           float32           float32        float32        float32        float32           float32                  float32                 float32               float32            float32             float32                float32                 float32                  float32             int16           float32                 float32                float32                  float32                      float32              float32             float32            float32       float32      float32     float64  \n",
       "------------------- --------------------------- ----------------- ----------------- ------ ----- ------ -------- ------ ------ --------- ----------- ---- ------- ----- ------ ----- ----- -------- --------- ------ ---------- ---------------------- ------------------------- --------- ---------------------- ----------------------- --------------------- ------------------------- ----------------------------- ----------------------------- -------------------------- ----------- ------------ ----------- ------------ ------------------ --------------- --------- ----------------- -------------------- ------------------------ -------------------------- ----------------------- --------------------- --------------------- ------------------------- ---------------------- --------------------- ---------- ----------- ---------- ----------- ---------------------- ------------------------ --------- ---------- ---------- -------------------------- --------------------------- ---------- ----- ----- -------- -------------------- ----------- ---------- ---------- ----------- ----- ------- ----- ------------------ ----------------- --------- ------ ----------- ------------ ----- --------- --------- ---------- ----------- -------------- ------------------- --------------- -------------- -------------- ------------- ---------------------- ------------------------- --------------------- --------------------- ---------------- --------------------- ----------------------- ----------------------- -------------------------- ---------- ---------------------- ----------------------- --------------------- --------------------------- ----------------------------- ------------ ------------------------- ------------ ------------- ------------ ----------\n",
       "J090427.39+412910.3 09h/p40/J090427.39+412910.3 136.1141894043758 41.48620655911407 234214 62960     -1       -1 150589     -1 16.804045 0.024464695 sdss    0.07  2864      5   199   301 846.1409 332.72162 229678 0.02457468 15.294206 .. 432.70963 0.14675486 .. 0.006180516         1 11.275181 .. 435.89822 -14.842025 .. -18.46674 29.120419 .. 981.6782 0.12312718 .. 0.021966837 0.0035558213 .. -0.0009047679 3.4733189e-10 .. 1.048234e-06 6.230661e-05 .. 0.87851965 0.012574765  0.057062168 0.021093322 1372272800.0 319.31719970703125 275.48291015625  10 .. 12 0.46430007 .. 0.0      19.89334 .. 0.0 0.10384511 .. 0.15701883 0.0038284247 .. 0.18340655 0.8117326 .. 0.61103344 1.0556746 .. 24.71618 8.979391 .. 416.81158 0.15768526 .. 0.012196948 1.2941037 .. 104.40079 4.927625 .. 0.5290479 0.81707716   158.45679 0.71592665    158.3876 13.654508 .. 439.95654 0.19311486 .. 0.05132291 2.1982067 0.61002475  159.89954 -0.2791745 .. -0.053505167 -0.20512736 .. -0.033274934    0 .. 64     2    24  v2_1_13 0.22341923 .. 258.39    6.174788   2.835403   8.220333    3.553146  1200     385 52668 136.11416256161644 41.48620843904549       0.0   sdss      legacy         good   639 136.11414 41.486196 0.71592665    158.3876      267.82214          0.47782302        6.887352      3.1269498       8.629966      6.887352 10.968276 .. 415.81747 0.14511849 .. 0.012978472 3.798364 .. 3.1545942 10.528671 .. 9.163556        1.0002136 1.0741689 .. 1.000211  1.0734565 .. 1.0001365 12.2853985 .. 408.96814 0.11299262 .. 0.0049449154          1 7.9684563 .. 412.03818 -14.61242 .. -18.411428 14.467048 .. 701.5993 0.011795992 .. 0.0050534583 5.3068484e-06 .. 4.313507e-11 1166673400.0 7.438686e-05 .. 0.7858228 6.935276e-05    0.16960175  0.026085883        1.0"
      ]
     },
     "execution_count": 18,
     "metadata": {},
     "output_type": "execute_result"
    }
   ],
   "source": [
    "nsa_hdu_list_tetsuo_table[0]"
   ]
  },
  {
   "cell_type": "code",
   "execution_count": null,
   "metadata": {},
   "outputs": [],
   "source": []
  },
  {
   "cell_type": "code",
   "execution_count": 18,
   "metadata": {},
   "outputs": [],
   "source": []
  },
  {
   "cell_type": "code",
   "execution_count": null,
   "metadata": {},
   "outputs": [],
   "source": []
  },
  {
   "cell_type": "code",
   "execution_count": null,
   "metadata": {},
   "outputs": [],
   "source": []
  },
  {
   "cell_type": "code",
   "execution_count": null,
   "metadata": {},
   "outputs": [],
   "source": []
  },
  {
   "cell_type": "code",
   "execution_count": null,
   "metadata": {},
   "outputs": [],
   "source": []
  },
  {
   "cell_type": "code",
   "execution_count": null,
   "metadata": {},
   "outputs": [],
   "source": []
  },
  {
   "cell_type": "code",
   "execution_count": null,
   "metadata": {},
   "outputs": [],
   "source": []
  },
  {
   "cell_type": "code",
   "execution_count": 104,
   "metadata": {},
   "outputs": [],
   "source": []
  },
  {
   "cell_type": "code",
   "execution_count": null,
   "metadata": {},
   "outputs": [],
   "source": []
  },
  {
   "cell_type": "code",
   "execution_count": null,
   "metadata": {},
   "outputs": [],
   "source": []
  },
  {
   "cell_type": "code",
   "execution_count": null,
   "metadata": {},
   "outputs": [],
   "source": []
  },
  {
   "cell_type": "code",
   "execution_count": null,
   "metadata": {},
   "outputs": [],
   "source": []
  },
  {
   "cell_type": "code",
   "execution_count": null,
   "metadata": {
    "scrolled": true
   },
   "outputs": [],
   "source": []
  },
  {
   "cell_type": "code",
   "execution_count": null,
   "metadata": {},
   "outputs": [],
   "source": []
  },
  {
   "cell_type": "code",
   "execution_count": null,
   "metadata": {},
   "outputs": [],
   "source": []
  },
  {
   "cell_type": "code",
   "execution_count": null,
   "metadata": {},
   "outputs": [],
   "source": []
  },
  {
   "cell_type": "code",
   "execution_count": null,
   "metadata": {},
   "outputs": [],
   "source": []
  },
  {
   "cell_type": "code",
   "execution_count": null,
   "metadata": {},
   "outputs": [],
   "source": []
  },
  {
   "cell_type": "code",
   "execution_count": null,
   "metadata": {},
   "outputs": [],
   "source": []
  },
  {
   "cell_type": "code",
   "execution_count": null,
   "metadata": {},
   "outputs": [],
   "source": []
  },
  {
   "cell_type": "code",
   "execution_count": null,
   "metadata": {},
   "outputs": [],
   "source": []
  }
 ],
 "metadata": {
  "kernelspec": {
   "display_name": "Python3.8",
   "language": "python",
   "name": "code"
  },
  "language_info": {
   "codemirror_mode": {
    "name": "ipython",
    "version": 3
   },
   "file_extension": ".py",
   "mimetype": "text/x-python",
   "name": "python",
   "nbconvert_exporter": "python",
   "pygments_lexer": "ipython3",
   "version": "3.8.3"
  }
 },
 "nbformat": 4,
 "nbformat_minor": 4
}
