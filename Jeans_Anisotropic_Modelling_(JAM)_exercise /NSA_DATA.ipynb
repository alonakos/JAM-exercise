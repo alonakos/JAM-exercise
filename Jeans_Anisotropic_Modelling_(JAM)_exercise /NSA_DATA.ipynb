{
 "cells": [
  {
   "cell_type": "code",
   "execution_count": null,
   "metadata": {},
   "outputs": [],
   "source": [
    "#nsa_data = Table(nsa_hdu_list[1].data)\n",
    "#DO NOT RUN! LOADS THE WHOLE CATALOG IN THE MEMORY - 30 minutes\n",
    "\n",
    "#CREATES A NEW FITS FILE WITH AKIRA AND TETSUO FROM THE WHOLE CATALOG\n",
    "\n",
    "#nsa_data_tetsuo_akira = nsa_data[[217015, 217022]]\n",
    "#nsa_data_tetsuo_akira.write('file2.fits')\n",
    "#nsa_hdu_list.info()\n",
    "#print (nsa_hdu_list[1].data[217015])\n",
    "#type (nsa_hdu_list[1].data)\n",
    "\n",
    "#FINDS A GALAXY\n",
    "#nsa_data = Table(nsa_hdu_list[1].data)\n",
    "#mpa_data = Table (mpa_hdu_list[1].data)\n",
    "#nsa_data_tetsuo = Table(nsa_hdu_list[1].data[217015])\n",
    "\n",
    "# CHEKC LENGHT\n",
    "#len(nsa_hdu_list[1].data)\n",
    "#len (mpa_hdu_list[1].data)\n",
    "\n",
    "#type (nsa_hdu_list[1].data[217015])\n",
    "#type (nsa_data[217015])\n",
    "\n",
    "#NOT SURE IF WORKS\n",
    "#type (nsa_data[217015])\n",
    "#from astropy.io import ascii\n",
    "#hdu = fits.PrimaryHDU(nsa_data[217015])\n",
    "#hdul = fits.HDUList(nsa_data[217015])\n",
    "#hdul.writeto('tetsuo.fits')\n",
    "\n",
    "#nsa_data[217022]"
   ]
  }
 ],
 "metadata": {
  "kernelspec": {
   "display_name": "Python3.8",
   "language": "python",
   "name": "code"
  },
  "language_info": {
   "codemirror_mode": {
    "name": "ipython",
    "version": 3
   },
   "file_extension": ".py",
   "mimetype": "text/x-python",
   "name": "python",
   "nbconvert_exporter": "python",
   "pygments_lexer": "ipython3",
   "version": "3.8.3"
  }
 },
 "nbformat": 4,
 "nbformat_minor": 4
}
