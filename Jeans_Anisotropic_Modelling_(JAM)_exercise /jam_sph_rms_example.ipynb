{
 "cells": [
  {
   "cell_type": "code",
   "execution_count": 11,
   "metadata": {},
   "outputs": [],
   "source": [
    "   import numpy as np\n",
    "import matplotlib.pyplot as plt\n",
    "\n",
    "from jampy.legacy.jam_sph_rms import jam_sph_rms\n",
    "\n",
    "    "
   ]
  },
  {
   "cell_type": "code",
   "execution_count": 12,
   "metadata": {},
   "outputs": [],
   "source": [
    "\n",
    "def jam_sph_rms_example():\n",
    "    \"\"\"\n",
    "    Usage example for jam_sph_rms().\n",
    "    It takes about 1s on a 2.5 GHz computer\n",
    "\n",
    "    \"\"\"\n",
    "\n",
    "    # Realistic MGE galaxy surface brightness.\n",
    "    # The surface brightness is in L_sun/pc^2 and the sigma in arcsec\n",
    "    #\n",
    "    surf_pc = np.array([6229., 3089., 5406., 8443., 4283., 1927., 708.8, 268.1, 96.83])\n",
    "    sigma_arcsec = np.array([0.0374, 0.286, 0.969, 2.30, 4.95, 8.96, 17.3, 36.9, 128.])\n",
    "\n",
    "    # Realistic observed stellar kinematics. It comes from AO observations\n",
    "    # at R<2\" and seeing-limited long slit observations at larger radii.\n",
    "    # The galaxy has negligible rotation and we can use sigma as V_RMS\n",
    "    #\n",
    "    sig = np.array([395., 390., 387., 385., 380., 365., 350., 315., 310., 290., 260.])  # km/s\n",
    "    erms = sig*0.02  # assume 2% errors in sigma\n",
    "    rad = np.array([0.15, 0.2, 0.3, 0.4, 0.5, 1, 1.5, 3, 5, 9, 15])  # arcsec\n",
    "\n",
    "    # Realistic anisotropy profile from a Schwarzschild model.\n",
    "    # The anisotropy varies smoothly between the following three regimes:\n",
    "    # 1. beta = -1 for R < 1\"\n",
    "    # 2. beta = 0.3 for 1\" < R < 30\"\n",
    "    # 3. beta = -0.2 for R > 30\"\n",
    "    #\n",
    "    beta = np.empty_like(sigma_arcsec)\n",
    "    beta[sigma_arcsec <= 1] = -1.0\n",
    "    beta[(sigma_arcsec > 1) & (sigma_arcsec <= 30)] = 0.3\n",
    "    beta[sigma_arcsec > 30] = -0.2\n",
    "\n",
    "    # Compute V_RMS profiles and optimize M/L to best fit the data.\n",
    "    # Assume self-consistency: same MGE for luminosity and potential.\n",
    "    #\n",
    "    pixSize = 0.1   # Spaxel size in arcsec\n",
    "    sigmapsf = [0.1, 0.6]  # sigma of the PSF in arcsec from AO observations\n",
    "    normpsf = [0.7, 0.3]\n",
    "    mbh = 1.5e8     # Black hole mass in solar masses before multiplication by M/L\n",
    "    distance = 20.  # Mpc\n",
    "\n",
    "    rmsModel, ml, chi2 = jam_sph_rms(\n",
    "        surf_pc, sigma_arcsec, surf_pc, sigma_arcsec, mbh, distance, rad,\n",
    "        beta=beta, sigmapsf=sigmapsf, normpsf=normpsf, pixsize=pixSize,\n",
    "        rms=sig, erms=erms, plot=True, tensor='los')\n",
    "\n"
   ]
  },
  {
   "cell_type": "code",
   "execution_count": 13,
   "metadata": {},
   "outputs": [
    {
     "name": "stdout",
     "output_type": "stream",
     "text": [
      "jam_sph_rms elapsed time sec: 0.88\n",
      "beta[0]=-1.00; M/L=4.887; BH=7.33e+08; chi2/DOF=0.659\n",
      "Total mass MGE: 7.14e+11\n"
     ]
    },
    {
     "data": {
      "image/png": "[encoded data removed]",
      "text/plain": [
       "<Figure size 432x288 with 1 Axes>"
      ]
     },
     "metadata": {
      "needs_background": "light"
     },
     "output_type": "display_data"
    }
   ],
   "source": [
    "\n",
    "if __name__ == '__main__':\n",
    "\n",
    "    plt.clf()\n",
    "    jam_sph_rms_example()\n",
    "    plt.pause(1)"
   ]
  },
  {
   "cell_type": "code",
   "execution_count": null,
   "metadata": {},
   "outputs": [],
   "source": []
  }
 ],
 "metadata": {
  "kernelspec": {
   "display_name": "Code",
   "language": "python",
   "name": "code"
  },
  "language_info": {
   "codemirror_mode": {
    "name": "ipython",
    "version": 3
   },
   "file_extension": ".py",
   "mimetype": "text/x-python",
   "name": "python",
   "nbconvert_exporter": "python",
   "pygments_lexer": "ipython3",
   "version": "3.8.3"
  }
 },
 "nbformat": 4,
 "nbformat_minor": 4
}
